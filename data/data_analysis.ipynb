{
 "cells": [
  {
   "cell_type": "code",
   "execution_count": 1,
   "id": "82fe4c30-53fc-43b5-944f-ff47d617da4d",
   "metadata": {},
   "outputs": [],
   "source": [
    "import json\n",
    "with open(\"train_origin.json\", \"r\") as f:\n",
    "    content = f.read()\n",
    "    data = json.loads(content)"
   ]
  },
  {
   "cell_type": "code",
   "execution_count": 2,
   "id": "816832da-1a38-4c74-9707-8aeb83c75194",
   "metadata": {},
   "outputs": [],
   "source": [
    "all_cuisine = set([data[id]['cuisine'] for id in data])"
   ]
  },
  {
   "cell_type": "code",
   "execution_count": 3,
   "id": "bd9d27a7-7061-4a11-89a3-92616afadf37",
   "metadata": {},
   "outputs": [],
   "source": [
    "all_cuisine = sorted(list(all_cuisine))"
   ]
  },
  {
   "cell_type": "code",
   "execution_count": 4,
   "id": "4d257a70-cd78-4c80-a6d6-3d84a276ae7a",
   "metadata": {},
   "outputs": [
    {
     "data": {
      "text/plain": [
       "['brazilian',\n",
       " 'british',\n",
       " 'cajun_creole',\n",
       " 'chinese',\n",
       " 'filipino',\n",
       " 'french',\n",
       " 'greek',\n",
       " 'indian',\n",
       " 'irish',\n",
       " 'italian',\n",
       " 'jamaican',\n",
       " 'japanese',\n",
       " 'korean',\n",
       " 'mexican',\n",
       " 'moroccan',\n",
       " 'russian',\n",
       " 'southern_us',\n",
       " 'spanish',\n",
       " 'thai',\n",
       " 'vietnamese']"
      ]
     },
     "execution_count": 4,
     "metadata": {},
     "output_type": "execute_result"
    }
   ],
   "source": [
    "all_cuisine"
   ]
  },
  {
   "cell_type": "code",
   "execution_count": 5,
   "id": "40e86885-4099-4688-97ed-b4a45f007bb1",
   "metadata": {},
   "outputs": [
    {
     "data": {
      "text/plain": [
       "{'cuisine': 'greek',\n",
       " 'ingredients': ['romaine lettuce',\n",
       "  'black olives',\n",
       "  'grape tomatoes',\n",
       "  'garlic',\n",
       "  'pepper',\n",
       "  'purple onion',\n",
       "  'seasoning',\n",
       "  'garbanzo beans',\n",
       "  'feta cheese crumbles']}"
      ]
     },
     "execution_count": 5,
     "metadata": {},
     "output_type": "execute_result"
    }
   ],
   "source": [
    "data[\"0\"]"
   ]
  },
  {
   "cell_type": "code",
   "execution_count": 8,
   "id": "de7c1d1e-1cd5-4c1c-9828-aeaf2849e369",
   "metadata": {},
   "outputs": [],
   "source": [
    "from transformers import AutoTokenizer\n",
    "tokenizer = AutoTokenizer.from_pretrained(\"bert-large-uncased\")\n",
    "lengths = [len(tokenizer.encode(\" [SEP] \".join(data[id]['ingredients']))) for id in data]"
   ]
  },
  {
   "cell_type": "code",
   "execution_count": 84,
   "id": "b8248c69-7a07-4bf8-8924-fe64de0bd357",
   "metadata": {},
   "outputs": [
    {
     "data": {
      "text/plain": [
       "'romaine lettuce [SEP] black olives [SEP] grape tomatoes [SEP] garlic [SEP] pepper [SEP] purple onion [SEP] seasoning [SEP] garbanzo beans [SEP] feta cheese crumbles'"
      ]
     },
     "execution_count": 84,
     "metadata": {},
     "output_type": "execute_result"
    }
   ],
   "source": [
    "\" [SEP] \".join(data[\"0\"]['ingredients'])"
   ]
  },
  {
   "cell_type": "code",
   "execution_count": 10,
   "id": "f5dc98d3-563a-4534-9cb0-4ef3b7892d13",
   "metadata": {},
   "outputs": [
    {
     "data": {
      "text/plain": [
       "266"
      ]
     },
     "execution_count": 10,
     "metadata": {},
     "output_type": "execute_result"
    }
   ],
   "source": [
    "max(lengths)"
   ]
  },
  {
   "cell_type": "code",
   "execution_count": 20,
   "id": "93dccb9b-5bb3-4338-a726-547c2f6ae866",
   "metadata": {},
   "outputs": [
    {
     "data": {
      "text/plain": [
       "0.002702787642603476"
      ]
     },
     "execution_count": 20,
     "metadata": {},
     "output_type": "execute_result"
    }
   ],
   "source": [
    "len([length for length in lengths if length>=100]) / len(lengths)"
   ]
  },
  {
   "cell_type": "code",
   "execution_count": 15,
   "id": "30ee530d-c693-4589-a56a-e6356b2b1f85",
   "metadata": {},
   "outputs": [],
   "source": [
    "import numpy as np\n",
    "x = np.arange(300)\n",
    "y = np.array([lengths.count(length) for length in range(300)])"
   ]
  },
  {
   "cell_type": "code",
   "execution_count": 17,
   "id": "7599f770-690d-4c96-8748-639b4bdb1197",
   "metadata": {},
   "outputs": [
    {
     "data": {
      "text/plain": [
       "Text(0, 0.5, 'number of text')"
      ]
     },
     "execution_count": 17,
     "metadata": {},
     "output_type": "execute_result"
    },
    {
     "data": {
      "image/png": "[encoded data removed]",
      "text/plain": [
       "<Figure size 432x288 with 1 Axes>"
      ]
     },
     "metadata": {
      "needs_background": "light"
     },
     "output_type": "display_data"
    }
   ],
   "source": [
    "import matplotlib.pyplot as plt\n",
    "plt.plot(x, y)\n",
    "plt.xlabel(\"length of text\")\n",
    "plt.ylabel(\"number of text\")"
   ]
  },
  {
   "cell_type": "code",
   "execution_count": 85,
   "id": "bc0125a4-a26c-4207-8c74-98f44e60376d",
   "metadata": {},
   "outputs": [],
   "source": [
    "y = np.array([lengths.count(length) for length in range(300)])"
   ]
  },
  {
   "cell_type": "code",
   "execution_count": 87,
   "id": "91315e0b-2d47-4c88-8bdb-6c5f1b5cb7f7",
   "metadata": {},
   "outputs": [
    {
     "data": {
      "text/plain": [
       "99.75172067003992"
      ]
     },
     "execution_count": 87,
     "metadata": {},
     "output_type": "execute_result"
    }
   ],
   "source": [
    "(100*np.cumsum(y) / sum(y)) [100]"
   ]
  },
  {
   "cell_type": "code",
   "execution_count": 18,
   "id": "36ee3bbf-fa5a-4b76-9937-4e58c79abbf9",
   "metadata": {},
   "outputs": [
    {
     "data": {
      "text/plain": [
       "Text(0, 0.5, 'cumulative proportion of text / %')"
      ]
     },
     "execution_count": 18,
     "metadata": {},
     "output_type": "execute_result"
    },
    {
     "data": {
      "image/png": "[encoded data removed]",
      "text/plain": [
       "<Figure size 432x288 with 1 Axes>"
      ]
     },
     "metadata": {
      "needs_background": "light"
     },
     "output_type": "display_data"
    }
   ],
   "source": [
    "import matplotlib.pyplot as plt\n",
    "plt.plot(x, 100*np.cumsum(y) / sum(y))\n",
    "plt.xlabel(\"length of text\")\n",
    "plt.ylabel(\"cumulative proportion of text / %\")"
   ]
  },
  {
   "cell_type": "code",
   "execution_count": 21,
   "id": "4ac1fd0d-cf41-41eb-9014-8af039e6a845",
   "metadata": {},
   "outputs": [],
   "source": [
    "all_cuisine = set([data[id]['cuisine'] for id in data])"
   ]
  },
  {
   "cell_type": "code",
   "execution_count": 22,
   "id": "4836a10f-a2e8-47f3-b9d4-2e42652f88be",
   "metadata": {},
   "outputs": [],
   "source": [
    "all_cuisine_list = [data[id]['cuisine'] for id in data]"
   ]
  },
  {
   "cell_type": "code",
   "execution_count": 23,
   "id": "dc0fc4ce-9bc0-4c83-bb8c-55b15152b213",
   "metadata": {},
   "outputs": [
    {
     "data": {
      "text/plain": [
       "{'indian': 2381,\n",
       " 'cajun_creole': 1253,\n",
       " 'chinese': 2126,\n",
       " 'japanese': 1157,\n",
       " 'mexican': 5151,\n",
       " 'british': 631,\n",
       " 'moroccan': 659,\n",
       " 'jamaican': 433,\n",
       " 'brazilian': 367,\n",
       " 'vietnamese': 645,\n",
       " 'irish': 519,\n",
       " 'southern_us': 3454,\n",
       " 'italian': 6308,\n",
       " 'french': 2122,\n",
       " 'korean': 649,\n",
       " 'spanish': 798,\n",
       " 'filipino': 615,\n",
       " 'russian': 401,\n",
       " 'greek': 929,\n",
       " 'thai': 1221}"
      ]
     },
     "execution_count": 23,
     "metadata": {},
     "output_type": "execute_result"
    }
   ],
   "source": [
    "all_cuisine_count = {cuisine:0 for cuisine in all_cuisine}\n",
    "for cuisine in all_cuisine_list:\n",
    "    all_cuisine_count[cuisine] += 1\n",
    "all_cuisine_count"
   ]
  },
  {
   "cell_type": "code",
   "execution_count": 82,
   "id": "84462757-dae6-49a0-ba7f-931d8b2f29ed",
   "metadata": {},
   "outputs": [
    {
     "name": "stderr",
     "output_type": "stream",
     "text": [
      "findfont: Font family ['sans-serif'] not found. Falling back to DejaVu Sans.\n"
     ]
    },
    {
     "data": {
      "image/png": "[encoded data removed]",
      "text/plain": [
       "<Figure size 432x288 with 1 Axes>"
      ]
     },
     "metadata": {},
     "output_type": "display_data"
    }
   ],
   "source": [
    "import matplotlib.pyplot as plt\n",
    "plt.rcParams['font.sans-serif']=['SimHei'] #用来正常显示中文标签\n",
    "\n",
    "labels = list(all_cuisine_count.keys())\n",
    "sizes = [all_cuisine_count[label] for label in labels]\n",
    "plt.pie(sizes,labels=labels,autopct='%1.1f%%',shadow=False,startangle=150,radius=2)\n",
    "plt.title(\"cuisine prior distribution\",y=1.5,fontsize=18)\n",
    "plt.show()  "
   ]
  },
  {
   "cell_type": "code",
   "execution_count": 77,
   "id": "bd6b8198-9c69-4f73-bff9-c80879201d60",
   "metadata": {},
   "outputs": [
    {
     "name": "stdout",
     "output_type": "stream",
     "text": [
      "Help on function title in module matplotlib.pyplot:\n",
      "\n",
      "title(label, fontdict=None, loc=None, pad=None, *, y=None, **kwargs)\n",
      "    Set a title for the axes.\n",
      "    \n",
      "    Set one of the three available axes titles. The available titles\n",
      "    are positioned above the axes in the center, flush with the left\n",
      "    edge, and flush with the right edge.\n",
      "    \n",
      "    Parameters\n",
      "    ----------\n",
      "    label : str\n",
      "        Text to use for the title\n",
      "    \n",
      "    fontdict : dict\n",
      "        A dictionary controlling the appearance of the title text,\n",
      "        the default *fontdict* is::\n",
      "    \n",
      "           {'fontsize': rcParams['axes.titlesize'],\n",
      "            'fontweight': rcParams['axes.titleweight'],\n",
      "            'color': rcParams['axes.titlecolor'],\n",
      "            'verticalalignment': 'baseline',\n",
      "            'horizontalalignment': loc}\n",
      "    \n",
      "    loc : {'center', 'left', 'right'}, default: :rc:`axes.titlelocation`\n",
      "        Which title to set.\n",
      "    \n",
      "    y : float, default: :rc:`axes.titley`\n",
      "        Vertical axes loation for the title (1.0 is the top).  If\n",
      "        None (the default), y is determined automatically to avoid\n",
      "        decorators on the axes.\n",
      "    \n",
      "    pad : float, default: :rc:`axes.titlepad`\n",
      "        The offset of the title from the top of the axes, in points.\n",
      "    \n",
      "    Returns\n",
      "    -------\n",
      "    `.Text`\n",
      "        The matplotlib text instance representing the title\n",
      "    \n",
      "    Other Parameters\n",
      "    ----------------\n",
      "    **kwargs : `.Text` properties\n",
      "        Other keyword arguments are text properties, see `.Text` for a list\n",
      "        of valid text properties.\n",
      "\n"
     ]
    }
   ],
   "source": [
    "help(plt.title)"
   ]
  },
  {
   "cell_type": "code",
   "execution_count": 24,
   "id": "de90754c-ab7c-496e-95b7-5619a0d8c985",
   "metadata": {},
   "outputs": [
    {
     "data": {
      "text/plain": [
       "31819"
      ]
     },
     "execution_count": 24,
     "metadata": {},
     "output_type": "execute_result"
    }
   ],
   "source": [
    "len(data)"
   ]
  },
  {
   "cell_type": "code",
   "execution_count": 55,
   "id": "33ebc560-bb1b-4711-8bcf-8ffc696de3e1",
   "metadata": {},
   "outputs": [],
   "source": [
    "all_ingredients_list = [data[id]['ingredients'] for id in data]"
   ]
  },
  {
   "cell_type": "code",
   "execution_count": 56,
   "id": "ebe29591-d1d4-4996-84e9-292c22fb9202",
   "metadata": {},
   "outputs": [],
   "source": [
    "num_ingredients_list = [len(ingredients) for ingredients in all_ingredients_list]"
   ]
  },
  {
   "cell_type": "code",
   "execution_count": 57,
   "id": "7f701b22-56f2-4d21-8c23-0718383ffd05",
   "metadata": {},
   "outputs": [
    {
     "data": {
      "text/plain": [
       "Text(0, 0.5, 'cumulative proportion of samples / %')"
      ]
     },
     "execution_count": 57,
     "metadata": {},
     "output_type": "execute_result"
    },
    {
     "data": {
      "image/png": "[encoded data removed]",
      "text/plain": [
       "<Figure size 432x288 with 1 Axes>"
      ]
     },
     "metadata": {
      "needs_background": "light"
     },
     "output_type": "display_data"
    }
   ],
   "source": [
    "import matplotlib.pyplot as plt\n",
    "x = np.arange(max(num_ingredients_list)+1)\n",
    "y = np.ones_like(x)\n",
    "for n in num_ingredients_list:\n",
    "    y[n] += 1\n",
    "plt.plot(x, 100*np.cumsum(y) / sum(y))\n",
    "plt.xlabel(\"number of ingredients\")\n",
    "plt.ylabel(\"cumulative proportion of samples / %\")"
   ]
  },
  {
   "cell_type": "code",
   "execution_count": 58,
   "id": "01b7d7bb-fb53-4dfa-8d94-d5e18c5947e9",
   "metadata": {},
   "outputs": [
    {
     "data": {
      "text/plain": [
       "array([3.13627097e-03, 6.58616905e-02, 5.39438607e-01, 1.90998902e+00,\n",
       "       4.81417594e+00, 9.52799122e+00, 1.61423867e+01, 2.45538655e+01,\n",
       "       3.35330093e+01, 4.29951388e+01, 5.22440019e+01, 6.10600596e+01,\n",
       "       6.89571899e+01, 7.57628979e+01, 8.14332758e+01, 8.58930532e+01,\n",
       "       8.95029011e+01, 9.24164968e+01, 9.46369766e+01, 9.61329779e+01,\n",
       "       9.73686687e+01, 9.81527364e+01, 9.87078564e+01, 9.90559824e+01,\n",
       "       9.92817939e+01, 9.94636977e+01, 9.95828760e+01, 9.96393288e+01,\n",
       "       9.97020543e+01, 9.97522346e+01, 9.97867336e+01, 9.98180963e+01,\n",
       "       9.98306414e+01, 9.98463227e+01, 9.98557315e+01, 9.98651403e+01,\n",
       "       9.98776854e+01, 9.98808217e+01, 9.98870942e+01, 9.98902305e+01,\n",
       "       9.99027756e+01, 9.99059119e+01, 9.99090481e+01, 9.99153207e+01,\n",
       "       9.99184570e+01, 9.99215932e+01, 9.99247295e+01, 9.99278658e+01,\n",
       "       9.99310020e+01, 9.99404109e+01, 9.99435471e+01, 9.99466834e+01,\n",
       "       9.99529559e+01, 9.99560922e+01, 9.99592285e+01, 9.99623647e+01,\n",
       "       9.99655010e+01, 9.99686373e+01, 9.99717736e+01, 9.99780461e+01,\n",
       "       9.99811824e+01, 9.99843186e+01, 9.99874549e+01, 9.99905912e+01,\n",
       "       9.99937275e+01, 1.00000000e+02])"
      ]
     },
     "execution_count": 58,
     "metadata": {},
     "output_type": "execute_result"
    }
   ],
   "source": [
    "(100*np.cumsum(y) / sum(y))"
   ]
  },
  {
   "cell_type": "code",
   "execution_count": 59,
   "id": "a87dab1d-27d4-487b-bc85-378ce1f11350",
   "metadata": {},
   "outputs": [
    {
     "data": {
      "text/plain": [
       "65"
      ]
     },
     "execution_count": 59,
     "metadata": {},
     "output_type": "execute_result"
    }
   ],
   "source": [
    "max(num_ingredients_list)"
   ]
  },
  {
   "cell_type": "code",
   "execution_count": 60,
   "id": "8563916f-06cb-423a-8549-5d7172be2f7b",
   "metadata": {},
   "outputs": [],
   "source": [
    "len_all_ingredients_list = [len(tokenizer.encode(ingredient)) for ingredients in all_ingredients_list for ingredient in ingredients]"
   ]
  },
  {
   "cell_type": "code",
   "execution_count": 61,
   "id": "3e8820d0-dd35-4a91-aa90-e0d2ddc1d7ae",
   "metadata": {},
   "outputs": [
    {
     "data": {
      "text/plain": [
       "Text(0, 0.5, 'cumulative proportion of cuisines in samples / %')"
      ]
     },
     "execution_count": 61,
     "metadata": {},
     "output_type": "execute_result"
    },
    {
     "data": {
      "image/png": "[encoded data removed]",
      "text/plain": [
       "<Figure size 432x288 with 1 Axes>"
      ]
     },
     "metadata": {
      "needs_background": "light"
     },
     "output_type": "display_data"
    }
   ],
   "source": [
    "import matplotlib.pyplot as plt\n",
    "x = np.arange(max(len_all_ingredients_list)+1)\n",
    "y = np.ones_like(x)\n",
    "for n in len_all_ingredients_list:\n",
    "    y[n] += 1\n",
    "plt.plot(x, 100*np.cumsum(y) / sum(y))\n",
    "plt.xlabel(\"length of cuisine\")\n",
    "plt.ylabel(\"cumulative proportion of cuisines in samples / %\")"
   ]
  },
  {
   "cell_type": "code",
   "execution_count": 62,
   "id": "50732384-5327-440a-bac3-e78049be62ad",
   "metadata": {},
   "outputs": [
    {
     "data": {
      "text/plain": [
       "array([2.92228476e-04, 5.84456952e-04, 8.76685428e-04, 2.18893740e+01,\n",
       "       5.35464848e+01, 7.75480862e+01, 9.18447799e+01, 9.66484316e+01,\n",
       "       9.90058387e+01, 9.96583849e+01, 9.98901221e+01, 9.99398009e+01,\n",
       "       9.99774984e+01, 9.99833430e+01, 9.99871419e+01, 9.99944477e+01,\n",
       "       9.99953243e+01, 9.99970777e+01, 9.99988311e+01, 1.00000000e+02])"
      ]
     },
     "execution_count": 62,
     "metadata": {},
     "output_type": "execute_result"
    }
   ],
   "source": [
    "100*np.cumsum(y) / sum(y)"
   ]
  },
  {
   "cell_type": "code",
   "execution_count": 66,
   "id": "15d74010-a87a-49ad-91a3-3b01d00d8f5b",
   "metadata": {},
   "outputs": [
    {
     "data": {
      "text/plain": [
       "list"
      ]
     },
     "execution_count": 66,
     "metadata": {},
     "output_type": "execute_result"
    }
   ],
   "source": [
    "type(tokenizer.encode(\"123\"))"
   ]
  },
  {
   "cell_type": "code",
   "execution_count": 67,
   "id": "3859c933-4e51-4251-92f9-702ed3d5795a",
   "metadata": {},
   "outputs": [
    {
     "data": {
      "text/plain": [
       "tensor([[1., 2., 3.],\n",
       "        [4., 5., 6.]])"
      ]
     },
     "execution_count": 67,
     "metadata": {},
     "output_type": "execute_result"
    }
   ],
   "source": [
    "import torch\n",
    "torch.Tensor([[1,2,3],[4,5,6]])"
   ]
  },
  {
   "cell_type": "code",
   "execution_count": null,
   "id": "72003104-8c33-464b-9a80-ffe58ef9fe79",
   "metadata": {},
   "outputs": [],
   "source": []
  }
 ],
 "metadata": {
  "kernelspec": {
   "display_name": "Python 3",
   "language": "python",
   "name": "python3"
  },
  "language_info": {
   "codemirror_mode": {
    "name": "ipython",
    "version": 3
   },
   "file_extension": ".py",
   "mimetype": "text/x-python",
   "name": "python",
   "nbconvert_exporter": "python",
   "pygments_lexer": "ipython3",
   "version": "3.8.8"
  }
 },
 "nbformat": 4,
 "nbformat_minor": 5
}
