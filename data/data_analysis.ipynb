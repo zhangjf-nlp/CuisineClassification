{
 "cells": [
  {
   "cell_type": "code",
   "execution_count": 1,
   "id": "82fe4c30-53fc-43b5-944f-ff47d617da4d",
   "metadata": {},
   "outputs": [],
   "source": [
    "import json\n",
    "with open(\"train_origin.json\", \"r\") as f:\n",
    "    content = f.read()\n",
    "    data = json.loads(content)"
   ]
  },
  {
   "cell_type": "code",
   "execution_count": 2,
   "id": "816832da-1a38-4c74-9707-8aeb83c75194",
   "metadata": {},
   "outputs": [],
   "source": [
    "all_cuisine = set([data[id]['cuisine'] for id in data])"
   ]
  },
  {
   "cell_type": "code",
   "execution_count": 3,
   "id": "bd9d27a7-7061-4a11-89a3-92616afadf37",
   "metadata": {},
   "outputs": [],
   "source": [
    "all_cuisine = sorted(list(all_cuisine))"
   ]
  },
  {
   "cell_type": "code",
   "execution_count": 4,
   "id": "4d257a70-cd78-4c80-a6d6-3d84a276ae7a",
   "metadata": {},
   "outputs": [
    {
     "data": {
      "text/plain": [
       "['brazilian',\n",
       " 'british',\n",
       " 'cajun_creole',\n",
       " 'chinese',\n",
       " 'filipino',\n",
       " 'french',\n",
       " 'greek',\n",
       " 'indian',\n",
       " 'irish',\n",
       " 'italian',\n",
       " 'jamaican',\n",
       " 'japanese',\n",
       " 'korean',\n",
       " 'mexican',\n",
       " 'moroccan',\n",
       " 'russian',\n",
       " 'southern_us',\n",
       " 'spanish',\n",
       " 'thai',\n",
       " 'vietnamese']"
      ]
     },
     "execution_count": 4,
     "metadata": {},
     "output_type": "execute_result"
    }
   ],
   "source": [
    "all_cuisine"
   ]
  },
  {
   "cell_type": "code",
   "execution_count": 5,
   "id": "40e86885-4099-4688-97ed-b4a45f007bb1",
   "metadata": {},
   "outputs": [
    {
     "data": {
      "text/plain": [
       "{'cuisine': 'greek',\n",
       " 'ingredients': ['romaine lettuce',\n",
       "  'black olives',\n",
       "  'grape tomatoes',\n",
       "  'garlic',\n",
       "  'pepper',\n",
       "  'purple onion',\n",
       "  'seasoning',\n",
       "  'garbanzo beans',\n",
       "  'feta cheese crumbles']}"
      ]
     },
     "execution_count": 5,
     "metadata": {},
     "output_type": "execute_result"
    }
   ],
   "source": [
    "data[\"0\"]"
   ]
  },
  {
   "cell_type": "code",
   "execution_count": 8,
   "id": "de7c1d1e-1cd5-4c1c-9828-aeaf2849e369",
   "metadata": {},
   "outputs": [],
   "source": [
    "from transformers import AutoTokenizer\n",
    "tokenizer = AutoTokenizer.from_pretrained(\"bert-large-uncased\")\n",
    "lengths = [len(tokenizer.encode(\" [SEP] \".join(data[id]['ingredients']))) for id in data]"
   ]
  },
  {
   "cell_type": "code",
   "execution_count": 10,
   "id": "f5dc98d3-563a-4534-9cb0-4ef3b7892d13",
   "metadata": {},
   "outputs": [
    {
     "data": {
      "text/plain": [
       "266"
      ]
     },
     "execution_count": 10,
     "metadata": {},
     "output_type": "execute_result"
    }
   ],
   "source": [
    "max(lengths)"
   ]
  },
  {
   "cell_type": "code",
   "execution_count": 20,
   "id": "93dccb9b-5bb3-4338-a726-547c2f6ae866",
   "metadata": {},
   "outputs": [
    {
     "data": {
      "text/plain": [
       "0.002702787642603476"
      ]
     },
     "execution_count": 20,
     "metadata": {},
     "output_type": "execute_result"
    }
   ],
   "source": [
    "len([length for length in lengths if length>=100]) / len(lengths)"
   ]
  },
  {
   "cell_type": "code",
   "execution_count": 15,
   "id": "30ee530d-c693-4589-a56a-e6356b2b1f85",
   "metadata": {},
   "outputs": [],
   "source": [
    "import numpy as np\n",
    "x = np.arange(300)\n",
    "y = np.array([lengths.count(length) for length in range(300)])"
   ]
  },
  {
   "cell_type": "code",
   "execution_count": 17,
   "id": "7599f770-690d-4c96-8748-639b4bdb1197",
   "metadata": {},
   "outputs": [
    {
     "data": {
      "text/plain": [
       "Text(0, 0.5, 'number of text')"
      ]
     },
     "execution_count": 17,
     "metadata": {},
     "output_type": "execute_result"
    },
    {
     "data": {
      "image/png": "[encoded data removed]",
      "text/plain": [
       "<Figure size 432x288 with 1 Axes>"
      ]
     },
     "metadata": {
      "needs_background": "light"
     },
     "output_type": "display_data"
    }
   ],
   "source": [
    "import matplotlib.pyplot as plt\n",
    "plt.plot(x, y)\n",
    "plt.xlabel(\"length of text\")\n",
    "plt.ylabel(\"number of text\")"
   ]
  },
  {
   "cell_type": "code",
   "execution_count": 18,
   "id": "36ee3bbf-fa5a-4b76-9937-4e58c79abbf9",
   "metadata": {},
   "outputs": [
    {
     "data": {
      "text/plain": [
       "Text(0, 0.5, 'cumulative proportion of text / %')"
      ]
     },
     "execution_count": 18,
     "metadata": {},
     "output_type": "execute_result"
    },
    {
     "data": {
      "image/png": "[encoded data removed]",
      "text/plain": [
       "<Figure size 432x288 with 1 Axes>"
      ]
     },
     "metadata": {
      "needs_background": "light"
     },
     "output_type": "display_data"
    }
   ],
   "source": [
    "import matplotlib.pyplot as plt\n",
    "plt.plot(x, 100*np.cumsum(y) / sum(y))\n",
    "plt.xlabel(\"length of text\")\n",
    "plt.ylabel(\"cumulative proportion of text / %\")"
   ]
  },
  {
   "cell_type": "code",
   "execution_count": null,
   "id": "4ac1fd0d-cf41-41eb-9014-8af039e6a845",
   "metadata": {},
   "outputs": [],
   "source": []
  }
 ],
 "metadata": {
  "kernelspec": {
   "display_name": "Python 3",
   "language": "python",
   "name": "python3"
  },
  "language_info": {
   "codemirror_mode": {
    "name": "ipython",
    "version": 3
   },
   "file_extension": ".py",
   "mimetype": "text/x-python",
   "name": "python",
   "nbconvert_exporter": "python",
   "pygments_lexer": "ipython3",
   "version": "3.8.8"
  }
 },
 "nbformat": 4,
 "nbformat_minor": 5
}
