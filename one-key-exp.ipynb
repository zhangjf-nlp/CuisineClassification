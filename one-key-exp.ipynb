{
 "cells": [
  {
   "cell_type": "code",
   "execution_count": 1,
   "id": "8db7c033-173c-4e9c-8044-f497d421aa2f",
   "metadata": {},
   "outputs": [],
   "source": [
    "args_list = [[\n",
    "    \"--epoch\", \"3\",\n",
    "    \"--head\", f\"{head}\",\n",
    "    \"--learning_rate\", f\"{lr}\",\n",
    "] for head in [\n",
    "    \"BasicClassificationHead\", \"TwoLayerClassificationHead\", \"ThreeLayerClassificationHead\"\n",
    "] for lr in [\n",
    "    3e-5, 1e-4, 3e-4\n",
    "]]"
   ]
  },
  {
   "cell_type": "code",
   "execution_count": null,
   "id": "d606fd98-9b37-47a5-8a28-31117f3b5881",
   "metadata": {},
   "outputs": [
    {
     "name": "stdout",
     "output_type": "stream",
     "text": [
      "Path exp/bert-base-uncased_Aggregator_BasicClassificationHead/3*3e-05_per_32*1 exists. Remove and remake.\n",
      "Namespace(adam_epsilon=1e-08, agg_class='Aggregator', batch_size=32, epoch=3, exp_dir='exp/bert-base-uncased_Aggregator_BasicClassificationHead/3*3e-05_per_32*1', freeze_pretrained=False, gradient_accumulation_steps=1, head_class='BasicClassificationHead', learning_rate=3e-05, logging=functools.partial(<function create_logging.<locals>.logging at 0x7fc5c752f430>, log_path='exp/bert-base-uncased_Aggregator_BasicClassificationHead/3*3e-05_per_32*1/log.txt'), max_length=100, model_name='bert-base-uncased_Aggregator_BasicClassificationHead', opt='adamw', pretrained_model_name_or_path='bert-base-uncased', scheduler_style='static', seed=123456, test=False, tiny_experiment=False, weight_decay=0.01)\n",
      "This experiemnt started at: Mon Dec 27 14:50:16 2021\n",
      "Model(\n",
      "  (bert): bert-base-uncased\n",
      "  (aggregator): Aggregator(\n",
      "    (hidden_states_to_attention_scores): Sequential(\n",
      "      (0): Linear(in_features=768, out_features=512, bias=False)\n",
      "      (1): Tanh()\n",
      "      (2): Linear(in_features=512, out_features=16, bias=False)\n",
      "    )\n",
      "  )\n",
      "  (head): BasicClassificationHead(\n",
      "    (MLP): Sequential(\n",
      "      (0): Dropout(p=0.1, inplace=False)\n",
      "      (1): Linear(in_features=768, out_features=20, bias=True)\n",
      "    )\n",
      "  )\n",
      ")\n",
      "begin training\n",
      "epoch 1/3\n",
      "loss=2.30:  11%|███▍                           | 98/894 [00:09<01:17, 10.29it/s]"
     ]
    }
   ],
   "source": [
    "for args in args_list:\n",
    "    cmd = f\"python3 experiment.py {' '.join(args)}\"\n",
    "    !$cmd"
   ]
  }
 ],
 "metadata": {
  "kernelspec": {
   "display_name": "Python 3",
   "language": "python",
   "name": "python3"
  },
  "language_info": {
   "codemirror_mode": {
    "name": "ipython",
    "version": 3
   },
   "file_extension": ".py",
   "mimetype": "text/x-python",
   "name": "python",
   "nbconvert_exporter": "python",
   "pygments_lexer": "ipython3",
   "version": "3.8.8"
  }
 },
 "nbformat": 4,
 "nbformat_minor": 5
}
